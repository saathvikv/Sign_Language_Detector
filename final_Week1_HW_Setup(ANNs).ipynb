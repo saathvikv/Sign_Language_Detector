{
  "cells": [
    {
      "cell_type": "code",
      "execution_count": null,
      "metadata": {
        "id": "fJGRKDYcHMyF"
      },
      "outputs": [],
      "source": [
        "import os\n",
        "import torch\n",
        "from torch import nn\n",
        "import numpy as np\n",
        "import pandas as pd\n",
        "import glob\n",
        "import matplotlib.pyplot as plt\n",
        "\n",
        "from torch.utils.data import DataLoader, TensorDataset\n",
        "from tqdm import tqdm"
      ]
    },
    {
      "cell_type": "code",
      "execution_count": null,
      "metadata": {
        "id": "lrheeVwjfTjQ"
      },
      "outputs": [],
      "source": [
        "num_to_letter = {\n",
        "    \"0\": \"A\",\n",
        "    \"1\": \"B\",\n",
        "    \"2\": \"C\",\n",
        "    \"3\": \"D\",\n",
        "    \"4\": \"E\",\n",
        "    \"5\": \"F\",\n",
        "    \"6\": \"G\",\n",
        "    \"7\": \"H\",\n",
        "    \"8\": \"I\",\n",
        "    \"9\": \"K\",\n",
        "    \"10\": \"L\",\n",
        "    \"11\": \"M\",\n",
        "    \"12\": \"N\",\n",
        "    \"13\": \"O\",\n",
        "    \"14\": \"P\",\n",
        "    \"15\": \"Q\",\n",
        "    \"16\": \"R\",\n",
        "    \"17\": \"S\",\n",
        "    \"18\": \"T\",\n",
        "    \"19\": \"U\",\n",
        "    \"20\": \"V\",\n",
        "    \"21\": \"W\",\n",
        "    \"22\": \"X\",\n",
        "    \"23\": \"Y\",\n",
        "    \"24\": \"Z\"\n",
        "}"
      ]
    },
    {
      "cell_type": "code",
      "execution_count": null,
      "metadata": {
        "colab": {
          "base_uri": "https://localhost:8080/"
        },
        "id": "l1buyY9-NghG",
        "outputId": "21cb2769-12c2-44a4-de8d-b5fc9d6286c7"
      },
      "outputs": [
        {
          "name": "stdout",
          "output_type": "stream",
          "text": [
            "Requirement already satisfied: kagglehub in /usr/local/lib/python3.11/dist-packages (0.3.9)\n",
            "Collecting kagglehub\n",
            "  Downloading kagglehub-0.3.10-py3-none-any.whl.metadata (31 kB)\n",
            "Requirement already satisfied: packaging in /usr/local/lib/python3.11/dist-packages (from kagglehub) (24.2)\n",
            "Requirement already satisfied: pyyaml in /usr/local/lib/python3.11/dist-packages (from kagglehub) (6.0.2)\n",
            "Requirement already satisfied: requests in /usr/local/lib/python3.11/dist-packages (from kagglehub) (2.32.3)\n",
            "Requirement already satisfied: tqdm in /usr/local/lib/python3.11/dist-packages (from kagglehub) (4.67.1)\n",
            "Requirement already satisfied: charset-normalizer<4,>=2 in /usr/local/lib/python3.11/dist-packages (from requests->kagglehub) (3.4.1)\n",
            "Requirement already satisfied: idna<4,>=2.5 in /usr/local/lib/python3.11/dist-packages (from requests->kagglehub) (3.10)\n",
            "Requirement already satisfied: urllib3<3,>=1.21.1 in /usr/local/lib/python3.11/dist-packages (from requests->kagglehub) (2.3.0)\n",
            "Requirement already satisfied: certifi>=2017.4.17 in /usr/local/lib/python3.11/dist-packages (from requests->kagglehub) (2025.1.31)\n",
            "Downloading kagglehub-0.3.10-py3-none-any.whl (63 kB)\n",
            "\u001b[2K   \u001b[90m━━━━━━━━━━━━━━━━━━━━━━━━━━━━━━━━━━━━━━━━\u001b[0m \u001b[32m63.0/63.0 kB\u001b[0m \u001b[31m2.4 MB/s\u001b[0m eta \u001b[36m0:00:00\u001b[0m\n",
            "\u001b[?25hInstalling collected packages: kagglehub\n",
            "  Attempting uninstall: kagglehub\n",
            "    Found existing installation: kagglehub 0.3.9\n",
            "    Uninstalling kagglehub-0.3.9:\n",
            "      Successfully uninstalled kagglehub-0.3.9\n",
            "Successfully installed kagglehub-0.3.10\n"
          ]
        }
      ],
      "source": [
        "!pip install --upgrade kagglehub"
      ]
    },
    {
      "cell_type": "code",
      "execution_count": null,
      "metadata": {
        "colab": {
          "base_uri": "https://localhost:8080/"
        },
        "id": "ixpnl5b4uJcK",
        "outputId": "f9472356-e45d-47ea-a829-f90ed8ee4d56"
      },
      "outputs": [
        {
          "name": "stdout",
          "output_type": "stream",
          "text": [
            "Downloading from https://www.kaggle.com/api/v1/datasets/download/datamunge/sign-language-mnist?dataset_version_number=1...\n"
          ]
        },
        {
          "name": "stderr",
          "output_type": "stream",
          "text": [
            "100%|██████████| 62.6M/62.6M [00:00<00:00, 66.5MB/s]"
          ]
        },
        {
          "name": "stdout",
          "output_type": "stream",
          "text": [
            "Extracting files...\n"
          ]
        },
        {
          "name": "stderr",
          "output_type": "stream",
          "text": [
            "\n"
          ]
        },
        {
          "name": "stdout",
          "output_type": "stream",
          "text": [
            "Path to dataset files: /root/.cache/kagglehub/datasets/datamunge/sign-language-mnist/versions/1\n"
          ]
        }
      ],
      "source": [
        "import kagglehub\n",
        "\n",
        "# Download latest version\n",
        "path = kagglehub.dataset_download(\"datamunge/sign-language-mnist\") # You may ignore the error regarding the KaggleHub version if it shows\n",
        "\n",
        "print(\"Path to dataset files:\", path)"
      ]
    },
    {
      "cell_type": "code",
      "execution_count": null,
      "metadata": {
        "colab": {
          "base_uri": "https://localhost:8080/"
        },
        "id": "qlGj00f8I9T7",
        "outputId": "22767a77-34d0-4b02-fb66-1fece5e64b58"
      },
      "outputs": [
        {
          "name": "stdout",
          "output_type": "stream",
          "text": [
            "['american_sign_language.PNG', 'sign_mnist_train', 'sign_mnist_test', 'sign_mnist_train.csv', 'amer_sign3.png', 'amer_sign2.png', 'sign_mnist_test.csv']\n"
          ]
        }
      ],
      "source": [
        "print(os.listdir(path))"
      ]
    },
    {
      "cell_type": "code",
      "execution_count": null,
      "metadata": {
        "id": "ipepqjYwIEtB"
      },
      "outputs": [],
      "source": [
        "train_dir = os.path.join(path, \"sign_mnist_train.csv\")\n",
        "test_dir = os.path.join(path, \"sign_mnist_test.csv\")"
      ]
    },
    {
      "cell_type": "code",
      "execution_count": null,
      "metadata": {
        "id": "Rt8UFJPe6ghZ"
      },
      "outputs": [],
      "source": [
        "train_df=pd.read_csv(train_dir)\n",
        "test_df=pd.read_csv(test_dir)\n",
        "\n",
        "train_images=train_df.drop('label',axis=1).values.reshape((-1,28,28,1))\n",
        "train_labels=train_df['label'].values\n",
        "\n",
        "test_images=test_df.drop('label',axis=1).values.reshape((-1,28,28,1))\n",
        "test_labels=test_df['label'].values"
      ]
    },
    {
      "cell_type": "code",
      "execution_count": null,
      "metadata": {
        "colab": {
          "base_uri": "https://localhost:8080/"
        },
        "id": "u88gWpAHEfdW",
        "outputId": "c0e06b69-c5a5-40ef-f9af-1ae54f164985"
      },
      "outputs": [
        {
          "name": "stdout",
          "output_type": "stream",
          "text": [
            "(27455, 28, 28, 1)\n",
            "(27455,)\n",
            "(7172, 28, 28, 1)\n",
            "(7172,)\n"
          ]
        }
      ],
      "source": [
        "print(train_images.shape)\n",
        "print(train_labels.shape)\n",
        "\n",
        "print(test_images.shape)\n",
        "print(test_labels.shape)"
      ]
    },
    {
      "cell_type": "code",
      "execution_count": null,
      "metadata": {
        "id": "bRcWU2RHhQLp"
      },
      "outputs": [],
      "source": [
        "image_num = 9234 #@param {type:\"raw\"}"
      ]
    },
    {
      "cell_type": "code",
      "execution_count": null,
      "metadata": {
        "colab": {
          "base_uri": "https://localhost:8080/"
        },
        "id": "mUHVXDDFhNji",
        "outputId": "7d65b32a-5ab6-401e-8137-a552a36c66b2"
      },
      "outputs": [
        {
          "name": "stdout",
          "output_type": "stream",
          "text": [
            "(28, 28, 1)\n"
          ]
        }
      ],
      "source": [
        "print(train_images[image_num].shape)"
      ]
    },
    {
      "cell_type": "code",
      "execution_count": null,
      "metadata": {
        "colab": {
          "base_uri": "https://localhost:8080/",
          "height": 469
        },
        "id": "B1qFrGnQHYSa",
        "outputId": "e1c6db59-1675-4a80-c91c-f8b2d635383a"
      },
      "outputs": [
        {
          "data": {
            "text/plain": [
              "Text(0.5, 1.0, 'A')"
            ]
          },
          "execution_count": 12,
          "metadata": {},
          "output_type": "execute_result"
        },
        {
          "data": {
            "image/png": "[encoded data removed]",
            "text/plain": [
              "<Figure size 640x480 with 1 Axes>"
            ]
          },
          "metadata": {},
          "output_type": "display_data"
        }
      ],
      "source": [
        "plt.imshow(train_images[image_num])\n",
        "plt.title(num_to_letter[f\"{train_labels[image_num]}\"])"
      ]
    },
    {
      "cell_type": "code",
      "execution_count": null,
      "metadata": {
        "colab": {
          "base_uri": "https://localhost:8080/"
        },
        "id": "wjDiETv0LVFP",
        "outputId": "e2c07618-21d6-489c-f606-07b86d8531c5"
      },
      "outputs": [
        {
          "data": {
            "text/plain": [
              "array([ 0,  1,  2,  3,  4,  5,  6,  7,  8, 10, 11, 12, 13, 14, 15, 16, 17,\n",
              "       18, 19, 20, 21, 22, 23, 24])"
            ]
          },
          "execution_count": 13,
          "metadata": {},
          "output_type": "execute_result"
        }
      ],
      "source": [
        "np.unique(train_labels)"
      ]
    },
    {
      "cell_type": "code",
      "execution_count": null,
      "metadata": {
        "id": "WmIOTHmJNmjh"
      },
      "outputs": [],
      "source": []
    },
    {
      "cell_type": "code",
      "execution_count": null,
      "metadata": {
        "id": "WF2OU2ibOQp4"
      },
      "outputs": [],
      "source": [
        "class MLP(nn.Module):\n",
        "  def __init__(self, input_layer=784, output=25):\n",
        "    super().__init__()\n",
        "    self.layers = nn.Sequential(\n",
        "        nn.Flatten(),\n",
        "        nn.Linear(input_layer, 512),\n",
        "        nn.ReLU(),\n",
        "        nn.Linear(512, 256),\n",
        "        nn.ReLU(),\n",
        "        nn.Linear(256, 128),\n",
        "        nn.ReLU(),\n",
        "        nn.Linear(128, output),\n",
        "\n",
        "    )\n",
        "  def forward(self, x):\n",
        "    return self.layers(x)\n",
        "\n",
        "model = MLP()"
      ]
    },
    {
      "cell_type": "code",
      "execution_count": null,
      "metadata": {
        "id": "E9N7naleORHa"
      },
      "outputs": [],
      "source": [
        "from torchsummary import summary"
      ]
    },
    {
      "cell_type": "code",
      "execution_count": null,
      "metadata": {
        "colab": {
          "base_uri": "https://localhost:8080/"
        },
        "id": "aJWLGcO7ORFS",
        "outputId": "bd8490b2-6b7c-4477-c95e-78b163bc7a63"
      },
      "outputs": [
        {
          "name": "stdout",
          "output_type": "stream",
          "text": [
            "----------------------------------------------------------------\n",
            "        Layer (type)               Output Shape         Param #\n",
            "================================================================\n",
            "           Flatten-1                  [-1, 784]               0\n",
            "            Linear-2                  [-1, 512]         401,920\n",
            "              ReLU-3                  [-1, 512]               0\n",
            "            Linear-4                  [-1, 256]         131,328\n",
            "              ReLU-5                  [-1, 256]               0\n",
            "            Linear-6                  [-1, 128]          32,896\n",
            "              ReLU-7                  [-1, 128]               0\n",
            "            Linear-8                   [-1, 25]           3,225\n",
            "================================================================\n",
            "Total params: 569,369\n",
            "Trainable params: 569,369\n",
            "Non-trainable params: 0\n",
            "----------------------------------------------------------------\n",
            "Input size (MB): 0.00\n",
            "Forward/backward pass size (MB): 0.02\n",
            "Params size (MB): 2.17\n",
            "Estimated Total Size (MB): 2.19\n",
            "----------------------------------------------------------------\n"
          ]
        }
      ],
      "source": [
        "summary(model, (1, 28, 28))"
      ]
    },
    {
      "cell_type": "code",
      "execution_count": null,
      "metadata": {
        "id": "TzG_3GklY9l8"
      },
      "outputs": [],
      "source": [
        "train_images = torch.tensor(train_images)\n",
        "train_labels = torch.tensor(train_labels)\n",
        "train_images = train_images.permute(0, 3, 1, 2) # Change form (Batch, Height, Width, Channel) to (B, C, H, W)\n",
        "\n",
        "test_images = torch.tensor(test_images)\n",
        "test_labels = torch.tensor(test_labels)\n",
        "test_images = test_images.permute(0, 3, 1, 2) # Change form (Batch, Height, Width, Channel) to (B, C, H, W)"
      ]
    },
    {
      "cell_type": "code",
      "execution_count": null,
      "metadata": {
        "colab": {
          "base_uri": "https://localhost:8080/"
        },
        "id": "67pNXgYPdxmU",
        "outputId": "c33d1da6-99bc-4a0d-9c84-f9b039836d8f"
      },
      "outputs": [
        {
          "name": "stdout",
          "output_type": "stream",
          "text": [
            "torch.Size([27455, 1, 28, 28])\n",
            "torch.Size([27455])\n",
            "torch.Size([7172, 1, 28, 28])\n",
            "torch.Size([7172])\n"
          ]
        }
      ],
      "source": [
        "print(train_images.shape)\n",
        "print(train_labels.shape)\n",
        "print(test_images.shape)\n",
        "print(test_labels.shape)"
      ]
    },
    {
      "cell_type": "code",
      "execution_count": null,
      "metadata": {
        "id": "FvWJvgHL_BPB"
      },
      "outputs": [],
      "source": [
        "train_set = TensorDataset(train_images, train_labels)\n",
        "test_set = TensorDataset(test_images, test_labels)"
      ]
    },
    {
      "cell_type": "code",
      "execution_count": null,
      "metadata": {
        "id": "7JMj0lLyOYA9"
      },
      "outputs": [],
      "source": [
        "train_loader = DataLoader(train_set, batch_size=32, shuffle=True)\n",
        "\n",
        "test_loader = DataLoader(test_set, batch_size=32, shuffle=False)"
      ]
    },
    {
      "cell_type": "code",
      "execution_count": null,
      "metadata": {
        "id": "YXT4En32R-8T"
      },
      "outputs": [],
      "source": [
        "loss_fn = nn.CrossEntropyLoss()\n",
        "optimizer = torch.optim.Adam(model.parameters(), lr=0.001)"
      ]
    },
    {
      "cell_type": "code",
      "execution_count": null,
      "metadata": {
        "id": "eAIEO791SCO8"
      },
      "outputs": [],
      "source": [
        "def trainer(model, train_loader, loss_fn, optimizer, epochs):\n",
        "  model.train()\n",
        "  train_losses = []\n",
        "  for epoch in range(epochs):\n",
        "    train_loss_epoch = 0\n",
        "    for image, label in tqdm(train_loader, desc=\"Training Model\"):\n",
        "      image = image.to(torch.float32)\n",
        "      label = label.to(torch.int64)\n",
        "\n",
        "      optimizer.zero_grad()\n",
        "\n",
        "      pred = model(image)\n",
        "      loss = loss_fn(pred, label)\n",
        "      loss.backward()\n",
        "      train_loss_epoch += loss.item()\n",
        "\n",
        "      optimizer.step()\n",
        "\n",
        "    avg_loss = train_loss_epoch / len(train_loader)\n",
        "    train_losses.append(avg_loss)\n",
        "\n",
        "    print(f'Epoch: {epoch+1} | Loss: {avg_loss:.4f}')\n",
        "\n",
        "  return train_losses"
      ]
    },
    {
      "cell_type": "code",
      "execution_count": null,
      "metadata": {
        "colab": {
          "base_uri": "https://localhost:8080/"
        },
        "id": "KheBrujjSCpA",
        "outputId": "259dd4eb-993f-4263-f795-f82afa12a851"
      },
      "outputs": [
        {
          "name": "stderr",
          "output_type": "stream",
          "text": [
            "Training Model: 100%|██████████| 858/858 [00:10<00:00, 84.09it/s]\n"
          ]
        },
        {
          "name": "stdout",
          "output_type": "stream",
          "text": [
            "Epoch: 1 | Loss: 2.3258\n"
          ]
        },
        {
          "name": "stderr",
          "output_type": "stream",
          "text": [
            "Training Model: 100%|██████████| 858/858 [00:15<00:00, 56.04it/s]\n"
          ]
        },
        {
          "name": "stdout",
          "output_type": "stream",
          "text": [
            "Epoch: 2 | Loss: 0.8496\n"
          ]
        },
        {
          "name": "stderr",
          "output_type": "stream",
          "text": [
            "Training Model: 100%|██████████| 858/858 [00:15<00:00, 55.06it/s]\n"
          ]
        },
        {
          "name": "stdout",
          "output_type": "stream",
          "text": [
            "Epoch: 3 | Loss: 0.5354\n"
          ]
        },
        {
          "name": "stderr",
          "output_type": "stream",
          "text": [
            "Training Model: 100%|██████████| 858/858 [00:15<00:00, 56.19it/s]\n"
          ]
        },
        {
          "name": "stdout",
          "output_type": "stream",
          "text": [
            "Epoch: 4 | Loss: 0.4101\n"
          ]
        },
        {
          "name": "stderr",
          "output_type": "stream",
          "text": [
            "Training Model: 100%|██████████| 858/858 [00:15<00:00, 57.11it/s]\n"
          ]
        },
        {
          "name": "stdout",
          "output_type": "stream",
          "text": [
            "Epoch: 5 | Loss: 0.2976\n"
          ]
        },
        {
          "name": "stderr",
          "output_type": "stream",
          "text": [
            "Training Model: 100%|██████████| 858/858 [00:15<00:00, 56.41it/s]\n"
          ]
        },
        {
          "name": "stdout",
          "output_type": "stream",
          "text": [
            "Epoch: 6 | Loss: 0.3132\n"
          ]
        },
        {
          "name": "stderr",
          "output_type": "stream",
          "text": [
            "Training Model: 100%|██████████| 858/858 [00:16<00:00, 53.20it/s]\n"
          ]
        },
        {
          "name": "stdout",
          "output_type": "stream",
          "text": [
            "Epoch: 7 | Loss: 0.2570\n"
          ]
        },
        {
          "name": "stderr",
          "output_type": "stream",
          "text": [
            "Training Model: 100%|██████████| 858/858 [00:15<00:00, 54.16it/s]\n"
          ]
        },
        {
          "name": "stdout",
          "output_type": "stream",
          "text": [
            "Epoch: 8 | Loss: 0.2655\n"
          ]
        },
        {
          "name": "stderr",
          "output_type": "stream",
          "text": [
            "Training Model: 100%|██████████| 858/858 [00:15<00:00, 55.84it/s]\n"
          ]
        },
        {
          "name": "stdout",
          "output_type": "stream",
          "text": [
            "Epoch: 9 | Loss: 0.1970\n"
          ]
        },
        {
          "name": "stderr",
          "output_type": "stream",
          "text": [
            "Training Model: 100%|██████████| 858/858 [00:14<00:00, 57.32it/s]\n"
          ]
        },
        {
          "name": "stdout",
          "output_type": "stream",
          "text": [
            "Epoch: 10 | Loss: 0.2931\n"
          ]
        },
        {
          "name": "stderr",
          "output_type": "stream",
          "text": [
            "Training Model: 100%|██████████| 858/858 [00:15<00:00, 54.07it/s]\n"
          ]
        },
        {
          "name": "stdout",
          "output_type": "stream",
          "text": [
            "Epoch: 11 | Loss: 0.2156\n"
          ]
        },
        {
          "name": "stderr",
          "output_type": "stream",
          "text": [
            "Training Model: 100%|██████████| 858/858 [00:15<00:00, 54.48it/s]\n"
          ]
        },
        {
          "name": "stdout",
          "output_type": "stream",
          "text": [
            "Epoch: 12 | Loss: 0.1779\n"
          ]
        },
        {
          "name": "stderr",
          "output_type": "stream",
          "text": [
            "Training Model: 100%|██████████| 858/858 [00:15<00:00, 55.60it/s]\n"
          ]
        },
        {
          "name": "stdout",
          "output_type": "stream",
          "text": [
            "Epoch: 13 | Loss: 0.2473\n"
          ]
        },
        {
          "name": "stderr",
          "output_type": "stream",
          "text": [
            "Training Model: 100%|██████████| 858/858 [00:15<00:00, 55.87it/s]\n"
          ]
        },
        {
          "name": "stdout",
          "output_type": "stream",
          "text": [
            "Epoch: 14 | Loss: 0.0416\n"
          ]
        },
        {
          "name": "stderr",
          "output_type": "stream",
          "text": [
            "Training Model: 100%|██████████| 858/858 [00:15<00:00, 53.96it/s]\n"
          ]
        },
        {
          "name": "stdout",
          "output_type": "stream",
          "text": [
            "Epoch: 15 | Loss: 0.0007\n"
          ]
        },
        {
          "name": "stderr",
          "output_type": "stream",
          "text": [
            "Training Model: 100%|██████████| 858/858 [00:15<00:00, 54.76it/s]\n"
          ]
        },
        {
          "name": "stdout",
          "output_type": "stream",
          "text": [
            "Epoch: 16 | Loss: 0.0003\n"
          ]
        },
        {
          "name": "stderr",
          "output_type": "stream",
          "text": [
            "Training Model: 100%|██████████| 858/858 [00:16<00:00, 52.72it/s]\n"
          ]
        },
        {
          "name": "stdout",
          "output_type": "stream",
          "text": [
            "Epoch: 17 | Loss: 0.0002\n"
          ]
        },
        {
          "name": "stderr",
          "output_type": "stream",
          "text": [
            "Training Model: 100%|██████████| 858/858 [00:15<00:00, 54.98it/s]\n"
          ]
        },
        {
          "name": "stdout",
          "output_type": "stream",
          "text": [
            "Epoch: 18 | Loss: 1.2397\n"
          ]
        },
        {
          "name": "stderr",
          "output_type": "stream",
          "text": [
            "Training Model: 100%|██████████| 858/858 [00:15<00:00, 54.70it/s]\n"
          ]
        },
        {
          "name": "stdout",
          "output_type": "stream",
          "text": [
            "Epoch: 19 | Loss: 3.1859\n"
          ]
        },
        {
          "name": "stderr",
          "output_type": "stream",
          "text": [
            "Training Model: 100%|██████████| 858/858 [00:16<00:00, 53.38it/s]"
          ]
        },
        {
          "name": "stdout",
          "output_type": "stream",
          "text": [
            "Epoch: 20 | Loss: 3.1805\n"
          ]
        },
        {
          "name": "stderr",
          "output_type": "stream",
          "text": [
            "\n"
          ]
        }
      ],
      "source": [
        "losses = trainer(model, train_loader, loss_fn, optimizer, epochs=20)"
      ]
    },
    {
      "cell_type": "code",
      "execution_count": null,
      "metadata": {
        "colab": {
          "base_uri": "https://localhost:8080/"
        },
        "id": "xfxtQB2gSCj6",
        "outputId": "0c86bb71-c5ed-4501-9647-f0b2e1df6728"
      },
      "outputs": [
        {
          "name": "stdout",
          "output_type": "stream",
          "text": [
            "[2.325834977599013, 0.8496253896322283, 0.5353513480900051, 0.4101480038875675, 0.2976411725687501, 0.3132250115377416, 0.2570424070305002, 0.26547821133836047, 0.19702977645371028, 0.29309754841106167, 0.2156277468106381, 0.17785143544330287, 0.24732811104002603, 0.041623192529443305, 0.0006772311946431702, 0.00031091635125739546, 0.00016986949774989432, 1.2397397247022983, 3.1859446105423506, 3.180540175148935]\n"
          ]
        }
      ],
      "source": [
        "print(losses)"
      ]
    },
    {
      "cell_type": "code",
      "execution_count": null,
      "metadata": {
        "id": "jan8uEDESr67"
      },
      "outputs": [],
      "source": [
        "epochs = list(range(1, 11)) # Replace 6 with however many eopchs you have above plus 1"
      ]
    },
    {
      "cell_type": "code",
      "execution_count": null,
      "metadata": {
        "id": "PV29vu3xSsQZ"
      },
      "outputs": [],
      "source": [
        "plt.plot(epochs, losses)\n",
        "plt.xlabel(\"Epochs\")\n",
        "plt.ylabel(\"Loss\")\n",
        "plt.title(\"Loss vs. Epochs\")\n",
        "plt.show()"
      ]
    },
    {
      "cell_type": "code",
      "execution_count": null,
      "metadata": {
        "id": "N9VGpctUSsM-"
      },
      "outputs": [],
      "source": []
    },
    {
      "cell_type": "code",
      "execution_count": null,
      "metadata": {
        "id": "WTzzj0c-etab"
      },
      "outputs": [],
      "source": [
        "def accuracy(correct, total):\n",
        "  return (correct / total) * 100"
      ]
    },
    {
      "cell_type": "code",
      "execution_count": null,
      "metadata": {
        "id": "Jvy92m6LSwfO"
      },
      "outputs": [],
      "source": [
        "def tester(model, test_loader):\n",
        "  model.eval()\n",
        "  correct = 0\n",
        "  total = 0\n",
        "  with torch.no_grad():\n",
        "    for image, label in tqdm(test_loader, desc=\"Testing Model\"):\n",
        "      image = image.to(torch.float32)\n",
        "      label = label.to(torch.int64)\n",
        "\n",
        "      pred = model(image) # Remember it returns probabilities of what everything could be\n",
        "\n",
        "      predicted_classes = pred.argmax(dim=1)\n",
        "\n",
        "      batch_correct = (predicted_classes == label).sum().item()\n",
        "      correct += batch_correct\n",
        "\n",
        "    print(f\"Correct: {correct} | Total: {len(test_loader)*32}\")\n",
        "\n",
        "  acc = accuracy(correct, len(test_loader)*32)\n",
        "\n",
        "  return acc"
      ]
    },
    {
      "cell_type": "code",
      "execution_count": null,
      "metadata": {
        "id": "xPte-RiaSyBl"
      },
      "outputs": [],
      "source": [
        "tester(model, test_loader)"
      ]
    },
    {
      "cell_type": "code",
      "execution_count": null,
      "metadata": {
        "id": "RiC3CjeXSx_C"
      },
      "outputs": [],
      "source": [
        "image = 100\n",
        "plt.imshow(test_images[image].permute(1, 2, 0))"
      ]
    },
    {
      "cell_type": "code",
      "execution_count": null,
      "metadata": {
        "id": "01rXMqJ5Sw4W"
      },
      "outputs": [],
      "source": [
        "with torch.no_grad():\n",
        "  pred = model(test_images[image].to(torch.float32).unsqueeze(0)) # Add a dimension for batch\n",
        "  print(num_to_letter[f\"{pred.argmax(1).item()}\"])"
      ]
    }
  ],
  "metadata": {
    "colab": {
      "provenance": []
    },
    "kernelspec": {
      "display_name": "Python 3",
      "name": "python3"
    },
    "language_info": {
      "name": "python"
    }
  },
  "nbformat": 4,
  "nbformat_minor": 0
}
